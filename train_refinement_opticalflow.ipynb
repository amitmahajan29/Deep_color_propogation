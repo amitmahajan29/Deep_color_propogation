{
 "cells": [
  {
   "cell_type": "code",
   "execution_count": 1,
   "metadata": {},
   "outputs": [],
   "source": [
    "import numpy as np\n",
    "import os\n",
    "import torch\n",
    "\n",
    "from glob import glob\n",
    "from skimage import io\n",
    "from tensorboardX import SummaryWriter\n",
    "from torch.utils.data.dataloader import DataLoader\n",
    "from torch import nn\n",
    "from tqdm import tqdm\n",
    "from time import time\n",
    "\n",
    "from src.batch_generator import BatchGenerator, WraptorDataLoader\n",
    "from src.command import Command\n",
    "from src.models import LocalTransferNet, GlobalTransferer, RefinementNet\n",
    "from src.train_utils import (draw_scalar_value, draw_images, rgb2gray, infer_batch,\n",
    "                             inference_all_test_videos, load_all_test_videos, calculate_psnr_result, frame_to_tensor)\n",
    "\n",
    "\n",
    "from color_utils import rgb2lab_torch, lab2rgb_torch\n",
    "from skimage.color import rgb2lab, lab2rgb\n",
    "from collections import defaultdict"
   ]
  },
  {
   "cell_type": "code",
   "execution_count": 4,
   "metadata": {},
   "outputs": [],
   "source": [
    "os.environ['CUDA_VISIBLE_DEVICES']='6, 7'\n",
    "\n",
    "experiment_dir = \"experiments/train_refinement_onepass_six_frames_loss_pretrainetlocal_amsgrad_mobile_optical_flow\"\n",
    "logs_directory = os.path.join(experiment_dir, \"logs\")\n",
    "save_test_output_videos_dir =  os.path.join(experiment_dir,  \"results_test_videos\")\n",
    "checkpoints_folder =  os.path.join(experiment_dir, \"checkpoints\")\n",
    "\n",
    "board_port = 6101\n",
    "board_timeout=24*60*60\n",
    "batch_size = 4\n",
    "img_shape = (128, 128, 3)\n",
    "val_num = 5\n",
    "iteration_num = 5000\n",
    "dataset_dir = \"datasets/Davis480/480p\"\n",
    "learning_rate = 1e-3 / 5\n",
    "verbose_every_it = 10\n",
    "save_models_every_it = 100\n",
    "\n",
    "test_every_it = 100"
   ]
  },
  {
   "cell_type": "code",
   "execution_count": 5,
   "metadata": {},
   "outputs": [
    {
     "data": {
      "text/plain": [
       "IncompatibleKeys(missing_keys=[], unexpected_keys=[])"
      ]
     },
     "execution_count": 5,
     "metadata": {},
     "output_type": "execute_result"
    }
   ],
   "source": [
    "#import torch\n",
    "from pytorch_spynet.run import estimate, Network\n",
    "optical_flow_net = Network().cuda().eval()\n",
    "optical_flow_net.load_state_dict(torch.load('pytorch_spynet/network-' + \"sintel-final\" + '.pytorch'))"
   ]
  },
  {
   "cell_type": "code",
   "execution_count": 6,
   "metadata": {},
   "outputs": [],
   "source": [
    "test_videos_folders = sorted(glob(dataset_dir + \"/*\"))[-val_num:]"
   ]
  },
  {
   "cell_type": "code",
   "execution_count": 7,
   "metadata": {},
   "outputs": [],
   "source": [
    "writer = SummaryWriter(logs_directory) \n",
    "board = Command('tensorboard --logdir=run1:{} --port {}'.format(logs_directory, board_port))\n",
    "board.run()"
   ]
  },
  {
   "cell_type": "code",
   "execution_count": 8,
   "metadata": {},
   "outputs": [],
   "source": [
    "dir_paths = [experiment_dir, logs_directory, checkpoints_folder, save_test_output_videos_dir]\n",
    "for path in dir_paths:\n",
    "    try:\n",
    "        os.mkdir(path)\n",
    "    except:\n",
    "        pass"
   ]
  },
  {
   "cell_type": "code",
   "execution_count": 9,
   "metadata": {},
   "outputs": [],
   "source": [
    "train_videos = load_all_test_videos(sorted(glob(dataset_dir + \"/*\"))[-1:], need_resize=False)\n",
    "val_videos = load_all_test_videos(sorted(glob(dataset_dir + \"/*\"))[-1:], need_resize=False)"
   ]
  },
  {
   "cell_type": "code",
   "execution_count": 17,
   "metadata": {},
   "outputs": [],
   "source": [
    "local_transfer_net = nn.DataParallel(LocalTransferNet().double().cuda())\n",
    "global_transferer = GlobalTransferer()\n",
    "refinement_net = RefinementNet(input_channels=[12, 64, 64, 64, 64, 64]).double()"
   ]
  },
  {
   "cell_type": "code",
   "execution_count": 18,
   "metadata": {},
   "outputs": [],
   "source": [
    "pretrain_local = False\n",
    "end2end = False"
   ]
  },
  {
   "cell_type": "code",
   "execution_count": 19,
   "metadata": {},
   "outputs": [],
   "source": [
    "loss_function = torch.nn.L1Loss() #torch.nn.MSELoss() or torch.nn.L1Loss()\n",
    "if pretrain_local:\n",
    "    optimizer = torch.optim.Adam(list(local_transfer_net.parameters()), \n",
    "                                 lr=learning_rate, amsgrad=True)\n",
    "else:\n",
    "    if end2end:\n",
    "        optimizer = torch.optim.Adam(list(local_transfer_net.parameters()) + list(refinement_net.parameters()), \n",
    "                                     lr=learning_rate, amsgrad=True)\n",
    "    else:\n",
    "        optimizer = torch.optim.Adam(list(refinement_net.parameters()), \n",
    "                                     lr=learning_rate, amsgrad=True)"
   ]
  },
  {
   "cell_type": "code",
   "execution_count": 14,
   "metadata": {},
   "outputs": [],
   "source": [
    "pretrain_local = False\n",
    "end2end = False"
   ]
  },
  {
   "cell_type": "code",
   "execution_count": 15,
   "metadata": {},
   "outputs": [],
   "source": [
    "loss_function = torch.nn.L1Loss() #torch.nn.MSELoss() or torch.nn.L1Loss()\n",
    "if pretrain_local:\n",
    "    optimizer = torch.optim.Adam(list(local_transfer_net.parameters()), \n",
    "                                 lr=learning_rate, amsgrad=True)\n",
    "else:\n",
    "    if end2end:\n",
    "        optimizer = torch.optim.Adam(list(local_transfer_net.parameters()) + list(refinement_net.parameters()), \n",
    "                                     lr=learning_rate, amsgrad=True)\n",
    "    else:\n",
    "        optimizer = torch.optim.Adam(list(refinement_net.parameters()), \n",
    "                                     lr=learning_rate, amsgrad=True)"
   ]
  },
  {
   "cell_type": "code",
   "execution_count": 16,
   "metadata": {},
   "outputs": [],
   "source": [
    "from skimage.transform import resize\n",
    "def get_random_video_frames(input_videos, frames_num, crop_size=256, resie_size=128):\n",
    "    video_id = np.random.randint(0, len(input_videos))\n",
    "    start_frame = np.random.randint(0, len(input_videos[video_id]) -  1)\n",
    "    frames = input_videos[video_id][start_frame: start_frame + frames_num]\n",
    "    random_crop_h = np.random.randint(0, max(frames[0].shape[0] - crop_size, 1))\n",
    "    random_crop_w = np.random.randint(0, max(frames[0].shape[1] - crop_size, 1))\n",
    "    for i in range(len(frames)):\n",
    "        frames[i] = frames[i][random_crop_h: random_crop_h + crop_size, random_crop_w: random_crop_w + crop_size, :]\n",
    "        frames[i] = resize(frames[i], (resie_size, resie_size))\n",
    "    return frames\n",
    "        \n",
    "        "
   ]
  },
  {
   "cell_type": "code",
   "execution_count": 17,
   "metadata": {},
   "outputs": [],
   "source": [
    "def tensor_from_list(list_frames):\n",
    "    return torch.cat([frame[None, ...] for frame in list_frames], dim=0)"
   ]
  },
  {
   "cell_type": "code",
   "execution_count": 18,
   "metadata": {},
   "outputs": [],
   "source": [
    "def inference_train_video(frames, refinement_net, local_transfer_net, global_transferer, use_only_local=False):\n",
    "    I0 = frames[0]\n",
    "    I_prev = frame_to_tensor(frames[0]).cuda()\n",
    "    Gk_1 = rgb2gray(I0)\n",
    "    G0 = Gk_1.copy()\n",
    "    output_rgb_frames = []\n",
    "    output_lab_frames = []\n",
    "    output_local = []\n",
    "    output_global = []\n",
    "    output_optical = []\n",
    "    for cur_frame in frames[1:]:\n",
    "        batch = (frame_to_tensor(I0[None, ...]), \n",
    "                 I_prev[None, ...].detach(),\n",
    "                 frame_to_tensor(cur_frame[None, ...]))\n",
    "        result_lab, result_rgb, result_local, result_global, result_optical = infer_batch(batch, refinement_net, local_transfer_net, \n",
    "                                                                                          global_transferer, use_only_local, \n",
    "                                                                                          use_optical_flow=True,\n",
    "                                                                                          optical_flow_net=optical_flow_net)\n",
    "        output_rgb_frames.append(result_rgb[0].cpu())\n",
    "        output_lab_frames.append(result_lab[0])\n",
    "        output_local.append(result_local[0].cpu())\n",
    "        output_global.append(result_global[0].cpu())\n",
    "        output_optical.append(result_optical[0].cpu())\n",
    "        I_prev = output_rgb_frames[-1]\n",
    "        \n",
    "    return (tensor_from_list(output_lab_frames),\n",
    "            tensor_from_list(output_rgb_frames), \n",
    "            tensor_from_list(output_local), \n",
    "            tensor_from_list(output_global),\n",
    "            tensor_from_list(output_optical))"
   ]
  },
  {
   "cell_type": "code",
   "execution_count": 19,
   "metadata": {},
   "outputs": [],
   "source": [
    "start_it = 0\n",
    "inference_frames = 3"
   ]
  },
  {
   "cell_type": "code",
   "execution_count": 20,
   "metadata": {},
   "outputs": [],
   "source": [
    "start_it = 5000"
   ]
  },
  {
   "cell_type": "code",
   "execution_count": 25,
   "metadata": {},
   "outputs": [
    {
     "ename": "TypeError",
     "evalue": "unsupported operand type(s) for ** or pow(): 'NoneType' and 'int'",
     "output_type": "error",
     "traceback": [
      "\u001b[0;31m---------------------------------------------------------------------------\u001b[0m",
      "\u001b[0;31mTypeError\u001b[0m                                 Traceback (most recent call last)",
      "\u001b[0;32m<ipython-input-25-aca68271e051>\u001b[0m in \u001b[0;36m<module>\u001b[0;34m\u001b[0m\n\u001b[1;32m      1\u001b[0m \u001b[0;32mfor\u001b[0m \u001b[0mi\u001b[0m \u001b[0;32min\u001b[0m \u001b[0mrange\u001b[0m\u001b[0;34m(\u001b[0m\u001b[0mlen\u001b[0m\u001b[0;34m(\u001b[0m\u001b[0mrefinement_net\u001b[0m\u001b[0;34m.\u001b[0m\u001b[0mmodule\u001b[0m\u001b[0;34m.\u001b[0m\u001b[0mconv_layers\u001b[0m\u001b[0;34m)\u001b[0m\u001b[0;34m)\u001b[0m\u001b[0;34m:\u001b[0m\u001b[0;34m\u001b[0m\u001b[0;34m\u001b[0m\u001b[0m\n\u001b[0;32m----> 2\u001b[0;31m     \u001b[0mweight_grad_mean\u001b[0m \u001b[0;34m=\u001b[0m \u001b[0mtorch\u001b[0m\u001b[0;34m.\u001b[0m\u001b[0mmean\u001b[0m\u001b[0;34m(\u001b[0m\u001b[0;34m(\u001b[0m\u001b[0mrefinement_net\u001b[0m\u001b[0;34m.\u001b[0m\u001b[0mmodule\u001b[0m\u001b[0;34m.\u001b[0m\u001b[0mconv_layers\u001b[0m\u001b[0;34m[\u001b[0m\u001b[0mi\u001b[0m\u001b[0;34m]\u001b[0m\u001b[0;34m.\u001b[0m\u001b[0mweight\u001b[0m\u001b[0;34m.\u001b[0m\u001b[0mgrad\u001b[0m\u001b[0;34m)\u001b[0m \u001b[0;34m**\u001b[0m \u001b[0;36m2\u001b[0m\u001b[0;34m)\u001b[0m\u001b[0;34m\u001b[0m\u001b[0;34m\u001b[0m\u001b[0m\n\u001b[0m\u001b[1;32m      3\u001b[0m     \u001b[0mbias_grad_mean\u001b[0m \u001b[0;34m=\u001b[0m \u001b[0mtorch\u001b[0m\u001b[0;34m.\u001b[0m\u001b[0mmean\u001b[0m\u001b[0;34m(\u001b[0m\u001b[0;34m(\u001b[0m\u001b[0mrefinement_net\u001b[0m\u001b[0;34m.\u001b[0m\u001b[0mmodule\u001b[0m\u001b[0;34m.\u001b[0m\u001b[0mconv_layers\u001b[0m\u001b[0;34m[\u001b[0m\u001b[0mi\u001b[0m\u001b[0;34m]\u001b[0m\u001b[0;34m.\u001b[0m\u001b[0mbias\u001b[0m\u001b[0;34m.\u001b[0m\u001b[0mgrad\u001b[0m\u001b[0;34m)\u001b[0m \u001b[0;34m**\u001b[0m \u001b[0;36m2\u001b[0m\u001b[0;34m)\u001b[0m\u001b[0;34m\u001b[0m\u001b[0;34m\u001b[0m\u001b[0m\n\u001b[1;32m      4\u001b[0m     \u001b[0mlayers_grad\u001b[0m\u001b[0;34m[\u001b[0m\u001b[0;34m\"layer_%d_weight_grad_norm\"\u001b[0m \u001b[0;34m%\u001b[0m \u001b[0mlayer_id\u001b[0m\u001b[0;34m]\u001b[0m \u001b[0;34m=\u001b[0m \u001b[0mweight_grad_mean\u001b[0m\u001b[0;34m\u001b[0m\u001b[0;34m\u001b[0m\u001b[0m\n\u001b[1;32m      5\u001b[0m     \u001b[0mlayers_grad\u001b[0m\u001b[0;34m[\u001b[0m\u001b[0;34m\"layer_%d_bias_grad_norm\"\u001b[0m \u001b[0;34m%\u001b[0m \u001b[0mlayer_id\u001b[0m\u001b[0;34m]\u001b[0m \u001b[0;34m=\u001b[0m \u001b[0mbias_grad_mean\u001b[0m\u001b[0;34m\u001b[0m\u001b[0;34m\u001b[0m\u001b[0m\n",
      "\u001b[0;31mTypeError\u001b[0m: unsupported operand type(s) for ** or pow(): 'NoneType' and 'int'"
     ]
    }
   ],
   "source": [
    "for i in range(len(refinement_net.module.conv_layers)):\n",
    "    weight_grad_mean = torch.mean((refinement_net.module.conv_layers[i].weight.grad) ** 2)\n",
    "    bias_grad_mean = torch.mean((refinement_net.module.conv_layers[i].bias.grad) ** 2)\n",
    "    layers_grad[\"layer_%d_weight_grad_norm\" % layer_id] = weight_grad_mean\n",
    "    layers_grad[\"layer_%d_bias_grad_norm\" % layer_id] = bias_grad_mean\n",
    "    layer_id += 1"
   ]
  },
  {
   "cell_type": "code",
   "execution_count": 21,
   "metadata": {
    "scrolled": true
   },
   "outputs": [
    {
     "name": "stderr",
     "output_type": "stream",
     "text": [
      "  0%|          | 0/5000 [00:00<?, ?it/s]/opt/conda/lib/python3.6/site-packages/skimage/transform/_warps.py:105: UserWarning: The default mode, 'constant', will be changed to 'reflect' in skimage 0.15.\n",
      "  warn(\"The default mode, 'constant', will be changed to 'reflect' in \"\n",
      "/opt/conda/lib/python3.6/site-packages/skimage/transform/_warps.py:110: UserWarning: Anti-aliasing will be enabled by default in skimage 0.15 to avoid aliasing artifacts when down-sampling images.\n",
      "  warn(\"Anti-aliasing will be enabled by default in skimage 0.15 to \"\n",
      "/opt/conda/lib/python3.6/site-packages/skimage/color/colorconv.py:997: UserWarning: Color data out of range: Z < 0 in 1 pixels\n",
      "  warn('Color data out of range: Z < 0 in %s pixels' % invalid[0].size)\n",
      "/opt/conda/lib/python3.6/site-packages/skimage/color/colorconv.py:997: UserWarning: Color data out of range: Z < 0 in 5 pixels\n",
      "  warn('Color data out of range: Z < 0 in %s pixels' % invalid[0].size)\n",
      "/opt/conda/lib/python3.6/site-packages/skimage/color/colorconv.py:997: UserWarning: Color data out of range: Z < 0 in 4 pixels\n",
      "  warn('Color data out of range: Z < 0 in %s pixels' % invalid[0].size)\n",
      "/opt/conda/lib/python3.6/site-packages/skimage/util/dtype.py:130: UserWarning: Possible precision loss when converting from float64 to uint8\n",
      "  .format(dtypeobj_in, dtypeobj_out))\n"
     ]
    },
    {
     "ename": "FileExistsError",
     "evalue": "[Errno 17] File exists: 'experiments/train_refinement_onepass_six_frames_loss_pretrainetlocal_amsgrad_mobile_optical_flow/checkpoints/5000'",
     "output_type": "error",
     "traceback": [
      "\u001b[0;31m---------------------------------------------------------------------------\u001b[0m",
      "\u001b[0;31mFileExistsError\u001b[0m                           Traceback (most recent call last)",
      "\u001b[0;32m<ipython-input-21-07a87f8f03e6>\u001b[0m in \u001b[0;36m<module>\u001b[0;34m\u001b[0m\n\u001b[1;32m     62\u001b[0m \u001b[0;34m\u001b[0m\u001b[0m\n\u001b[1;32m     63\u001b[0m     \u001b[0;32mif\u001b[0m \u001b[0;34m(\u001b[0m\u001b[0;34m(\u001b[0m\u001b[0mit\u001b[0m \u001b[0;34m%\u001b[0m \u001b[0msave_models_every_it\u001b[0m\u001b[0;34m)\u001b[0m \u001b[0;34m==\u001b[0m \u001b[0;36m0\u001b[0m\u001b[0;34m)\u001b[0m \u001b[0;32mand\u001b[0m \u001b[0;34m(\u001b[0m\u001b[0mit\u001b[0m \u001b[0;34m>\u001b[0m \u001b[0;36m0\u001b[0m\u001b[0;34m)\u001b[0m\u001b[0;34m:\u001b[0m\u001b[0;34m\u001b[0m\u001b[0;34m\u001b[0m\u001b[0m\n\u001b[0;32m---> 64\u001b[0;31m         \u001b[0mos\u001b[0m\u001b[0;34m.\u001b[0m\u001b[0mmkdir\u001b[0m\u001b[0;34m(\u001b[0m\u001b[0mos\u001b[0m\u001b[0;34m.\u001b[0m\u001b[0mpath\u001b[0m\u001b[0;34m.\u001b[0m\u001b[0mjoin\u001b[0m\u001b[0;34m(\u001b[0m\u001b[0mcheckpoints_folder\u001b[0m\u001b[0;34m,\u001b[0m \u001b[0mstr\u001b[0m\u001b[0;34m(\u001b[0m\u001b[0mit\u001b[0m\u001b[0;34m)\u001b[0m\u001b[0;34m)\u001b[0m\u001b[0;34m)\u001b[0m\u001b[0;34m\u001b[0m\u001b[0;34m\u001b[0m\u001b[0m\n\u001b[0m\u001b[1;32m     65\u001b[0m         \u001b[0mtorch\u001b[0m\u001b[0;34m.\u001b[0m\u001b[0msave\u001b[0m\u001b[0;34m(\u001b[0m\u001b[0mrefinement_net\u001b[0m\u001b[0;34m,\u001b[0m \u001b[0mos\u001b[0m\u001b[0;34m.\u001b[0m\u001b[0mpath\u001b[0m\u001b[0;34m.\u001b[0m\u001b[0mjoin\u001b[0m\u001b[0;34m(\u001b[0m\u001b[0mcheckpoints_folder\u001b[0m\u001b[0;34m,\u001b[0m  \u001b[0mstr\u001b[0m\u001b[0;34m(\u001b[0m\u001b[0mit\u001b[0m\u001b[0;34m)\u001b[0m\u001b[0;34m,\u001b[0m \u001b[0;34m\"refinement_net\"\u001b[0m\u001b[0;34m)\u001b[0m\u001b[0;34m)\u001b[0m\u001b[0;34m\u001b[0m\u001b[0;34m\u001b[0m\u001b[0m\n\u001b[1;32m     66\u001b[0m         \u001b[0mtorch\u001b[0m\u001b[0;34m.\u001b[0m\u001b[0msave\u001b[0m\u001b[0;34m(\u001b[0m\u001b[0mrefinement_net\u001b[0m\u001b[0;34m.\u001b[0m\u001b[0mstate_dict\u001b[0m\u001b[0;34m(\u001b[0m\u001b[0;34m)\u001b[0m\u001b[0;34m,\u001b[0m \u001b[0mos\u001b[0m\u001b[0;34m.\u001b[0m\u001b[0mpath\u001b[0m\u001b[0;34m.\u001b[0m\u001b[0mjoin\u001b[0m\u001b[0;34m(\u001b[0m\u001b[0mcheckpoints_folder\u001b[0m\u001b[0;34m,\u001b[0m  \u001b[0mstr\u001b[0m\u001b[0;34m(\u001b[0m\u001b[0mit\u001b[0m\u001b[0;34m)\u001b[0m\u001b[0;34m,\u001b[0m \u001b[0;34m\"refinement_net_state_dict\"\u001b[0m\u001b[0;34m)\u001b[0m\u001b[0;34m)\u001b[0m\u001b[0;34m\u001b[0m\u001b[0;34m\u001b[0m\u001b[0m\n",
      "\u001b[0;31mFileExistsError\u001b[0m: [Errno 17] File exists: 'experiments/train_refinement_onepass_six_frames_loss_pretrainetlocal_amsgrad_mobile_optical_flow/checkpoints/5000'"
     ]
    }
   ],
   "source": [
    "#I1, Ik_1, Ik\n",
    "for it in tqdm(range(start_it, start_it + iteration_num)):\n",
    "    \n",
    "    input_frames = get_random_video_frames(train_videos, inference_frames)\n",
    "    gt_frames = torch.tensor(input_frames).cuda()\n",
    "    refinement_output_lab_train, refinement_output_rgb_train, local_output_train, global_output_train, optical_output_train = inference_train_video(input_frames, refinement_net, \n",
    "                                                                                        local_transfer_net, \n",
    "                                                                                        global_transferer, \n",
    "                                                                                        use_only_local=False)\n",
    "    \n",
    "    train_loss = loss_function(refinement_output_lab_train[..., 1:], \n",
    "                               rgb2lab_torch(gt_frames)[1:, ..., 1:]).clone().detach().requires_grad_(True)\n",
    "    \n",
    "    \n",
    "    optimizer.zero_grad()\n",
    "    train_loss.backward()\n",
    "    optimizer.step()\n",
    "    \n",
    "    layers_grad = defaultdict()\n",
    "    \n",
    "    layer_id = 0\n",
    "    for i in range(len(refinement_net.module.conv_layers)):\n",
    "        try:\n",
    "            weight_grad_mean = torch.mean((refinement_net.module.conv_layers[i].weight.grad) ** 2)\n",
    "            bias_grad_mean = torch.mean((refinement_net.module.conv_layers[i].bias.grad) ** 2)\n",
    "            layers_grad[\"layer_%d_weight_grad_norm\" % layer_id] = weight_grad_mean\n",
    "            layers_grad[\"layer_%d_bias_grad_norm\" % layer_id] = bias_grad_mean\n",
    "            layer_id += 1\n",
    "        except:\n",
    "            continue\n",
    "    \n",
    "    \n",
    "    if (it % verbose_every_it) == 0:\n",
    "        input_frames = get_random_video_frames(val_videos, inference_frames)\n",
    "        gt_frames_train = gt_frames[1:]\n",
    "        gt_frames_val = torch.tensor(input_frames[1:]).cuda()\n",
    "        refinement_output_lab_val, refinement_output_rgb_val, local_output_val, global_output_val, optical_output_val = inference_train_video(input_frames, refinement_net, \n",
    "                                                                                        local_transfer_net, \n",
    "                                                                                        global_transferer, \n",
    "                                                                                        use_only_local=False)\n",
    "        val_loss = loss_function(refinement_output_lab_val[..., 1:], rgb2lab_torch(gt_frames_val)[..., 1:])\n",
    "        \n",
    "\n",
    "        draw_scalar_value(writer, \"losses\", \"train loss\", train_loss.detach().cpu().numpy(), it)\n",
    "        draw_scalar_value(writer, \"losses\", \"val loss\", val_loss.detach().cpu().numpy(), it)\n",
    "        writer.add_scalars(\"grad_norm\", layers_grad, it)\n",
    "        \n",
    "        local_output_train = torch.clamp(local_output_train,  0, 1)\n",
    "        local_output_val = torch.clamp(local_output_val,  0, 1)\n",
    "        refinement_output_rgb_train = torch.clamp(refinement_output_rgb_train,  0, 1)\n",
    "        refinement_output_rgb_val = torch.clamp(refinement_output_rgb_val,  0, 1)\n",
    "        optical_output_train = torch.clamp(optical_output_train,  0, 1)\n",
    "        optical_output_val = torch.clamp(optical_output_val,  0, 1)\n",
    "\n",
    "        concat_res_train = torch.cat((global_output_train.cpu(), local_output_train.cpu(), \n",
    "                                      optical_output_train.cpu(), refinement_output_rgb_train.cpu()), dim=2)\n",
    "        draw_images(writer, gt_frames_train.cpu().detach().numpy(), concat_res_train.cpu().detach().numpy(), it, tag=\"train\")\n",
    "        \n",
    "        concat_res_val = torch.cat((global_output_val.cpu(), local_output_val.cpu(), \n",
    "                                    optical_output_val.cpu(), refinement_output_rgb_val.cpu()), dim=2)\n",
    "        draw_images(writer, gt_frames_val.cpu().detach().numpy(), concat_res_val.cpu().detach().numpy(), it, tag=\"val\")\n",
    "    \n",
    "    if ((it % save_models_every_it) == 0) and (it > 0):\n",
    "        os.mkdir(os.path.join(checkpoints_folder, str(it)))\n",
    "        torch.save(refinement_net, os.path.join(checkpoints_folder,  str(it), \"refinement_net\"))\n",
    "        torch.save(refinement_net.state_dict(), os.path.join(checkpoints_folder,  str(it), \"refinement_net_state_dict\"))\n",
    "        torch.save(local_transfer_net, os.path.join(checkpoints_folder,  str(it), \"local_net\"))\n",
    "        torch.save(local_transfer_net.state_dict(), os.path.join(checkpoints_folder,  str(it), \"local_net_state_dict\"))\n",
    "    \n",
    "    if ((it % test_every_it) == 0) and (it > 0):\n",
    "        refinement_result, local_result, global_result, _ = inference_all_test_videos(test_videos_folders,\n",
    "                              refinement_net, local_transfer_net, global_transferer,\n",
    "                              save_test_output_videos_dir, it, use_only_local=pretrain_local, \n",
    "                              use_optical_flow=True, optical_flow_net=optical_flow_net,\n",
    "                              save_result=True, resize_size=img_shape)\n",
    "        gt_frames = load_all_test_videos(test_videos_folders, resize_size=img_shape)\n",
    "        metric_value = calculate_psnr_result(gt_frames, refinement_result)\n",
    "        draw_scalar_value(writer, \"metrics\", \"test psnr\", metric_value, it)\n",
    "    \n",
    "\n",
    "        "
   ]
  },
  {
   "cell_type": "code",
   "execution_count": 22,
   "metadata": {},
   "outputs": [
    {
     "ename": "KeyboardInterrupt",
     "evalue": "",
     "output_type": "error",
     "traceback": [
      "\u001b[0;31m---------------------------------------------------------------------------\u001b[0m",
      "\u001b[0;31mKeyboardInterrupt\u001b[0m                         Traceback (most recent call last)",
      "\u001b[0;32m<ipython-input-22-1924165ca94c>\u001b[0m in \u001b[0;36m<module>\u001b[0;34m\u001b[0m\n\u001b[0;32m----> 1\u001b[0;31m \u001b[0mvideos_frames\u001b[0m \u001b[0;34m=\u001b[0m \u001b[0mload_all_test_videos\u001b[0m\u001b[0;34m(\u001b[0m\u001b[0mtest_videos_folders\u001b[0m\u001b[0;34m,\u001b[0m \u001b[0mimg_shape\u001b[0m\u001b[0;34m)\u001b[0m\u001b[0;34m\u001b[0m\u001b[0;34m\u001b[0m\u001b[0m\n\u001b[0m",
      "\u001b[0;32m/data/users/aklimkin/Coursework/Deep_color_propogation/src/train_utils.py\u001b[0m in \u001b[0;36mload_all_test_videos\u001b[0;34m(video_pathes, need_resize, resize_size, anti_aliasing)\u001b[0m\n\u001b[1;32m    152\u001b[0m     \u001b[0;32mfor\u001b[0m \u001b[0mvideo_path\u001b[0m \u001b[0;32min\u001b[0m \u001b[0mvideo_pathes\u001b[0m\u001b[0;34m:\u001b[0m\u001b[0;34m\u001b[0m\u001b[0;34m\u001b[0m\u001b[0m\n\u001b[1;32m    153\u001b[0m         test_video_frames.append(load_video_frames(video_path, need_resize=need_resize,\n\u001b[0;32m--> 154\u001b[0;31m                                                    resize_size=resize_size, anti_aliasing=anti_aliasing))\n\u001b[0m\u001b[1;32m    155\u001b[0m     \u001b[0;32mreturn\u001b[0m \u001b[0mtest_video_frames\u001b[0m\u001b[0;34m\u001b[0m\u001b[0;34m\u001b[0m\u001b[0m\n\u001b[1;32m    156\u001b[0m \u001b[0;34m\u001b[0m\u001b[0m\n",
      "\u001b[0;32m/data/users/aklimkin/Coursework/Deep_color_propogation/src/train_utils.py\u001b[0m in \u001b[0;36mload_video_frames\u001b[0;34m(path, need_resize, resize_size, resize_type, left_crop_point, anti_aliasing)\u001b[0m\n\u001b[1;32m    137\u001b[0m     \u001b[0mframes_num\u001b[0m \u001b[0;34m=\u001b[0m \u001b[0mlen\u001b[0m\u001b[0;34m(\u001b[0m\u001b[0mglob\u001b[0m\u001b[0;34m(\u001b[0m\u001b[0mpath\u001b[0m \u001b[0;34m+\u001b[0m \u001b[0;34m\"/*\"\u001b[0m\u001b[0;34m)\u001b[0m\u001b[0;34m)\u001b[0m\u001b[0;34m\u001b[0m\u001b[0;34m\u001b[0m\u001b[0m\n\u001b[1;32m    138\u001b[0m     \u001b[0;32mfor\u001b[0m \u001b[0mi\u001b[0m \u001b[0;32min\u001b[0m \u001b[0mrange\u001b[0m\u001b[0;34m(\u001b[0m\u001b[0mframes_num\u001b[0m\u001b[0;34m)\u001b[0m\u001b[0;34m:\u001b[0m\u001b[0;34m\u001b[0m\u001b[0;34m\u001b[0m\u001b[0m\n\u001b[0;32m--> 139\u001b[0;31m         \u001b[0mframe\u001b[0m \u001b[0;34m=\u001b[0m \u001b[0mio\u001b[0m\u001b[0;34m.\u001b[0m\u001b[0mimread\u001b[0m\u001b[0;34m(\u001b[0m\u001b[0;34m\"%s/%05d.jpg\"\u001b[0m \u001b[0;34m%\u001b[0m \u001b[0;34m(\u001b[0m\u001b[0mpath\u001b[0m\u001b[0;34m,\u001b[0m \u001b[0mi\u001b[0m\u001b[0;34m)\u001b[0m\u001b[0;34m)\u001b[0m\u001b[0;34m\u001b[0m\u001b[0;34m\u001b[0m\u001b[0m\n\u001b[0m\u001b[1;32m    140\u001b[0m         \u001b[0;32mif\u001b[0m \u001b[0;32mnot\u001b[0m\u001b[0;34m(\u001b[0m\u001b[0mneed_resize\u001b[0m\u001b[0;34m)\u001b[0m\u001b[0;34m:\u001b[0m\u001b[0;34m\u001b[0m\u001b[0;34m\u001b[0m\u001b[0m\n\u001b[1;32m    141\u001b[0m             \u001b[0mframes\u001b[0m\u001b[0;34m.\u001b[0m\u001b[0mappend\u001b[0m\u001b[0;34m(\u001b[0m\u001b[0mimg_as_float\u001b[0m\u001b[0;34m(\u001b[0m\u001b[0mframe\u001b[0m\u001b[0;34m)\u001b[0m\u001b[0;34m)\u001b[0m\u001b[0;34m\u001b[0m\u001b[0;34m\u001b[0m\u001b[0m\n",
      "\u001b[0;32m/opt/conda/lib/python3.6/site-packages/skimage/io/_io.py\u001b[0m in \u001b[0;36mimread\u001b[0;34m(fname, as_gray, plugin, flatten, **plugin_args)\u001b[0m\n\u001b[1;32m     60\u001b[0m \u001b[0;34m\u001b[0m\u001b[0m\n\u001b[1;32m     61\u001b[0m     \u001b[0;32mwith\u001b[0m \u001b[0mfile_or_url_context\u001b[0m\u001b[0;34m(\u001b[0m\u001b[0mfname\u001b[0m\u001b[0;34m)\u001b[0m \u001b[0;32mas\u001b[0m \u001b[0mfname\u001b[0m\u001b[0;34m:\u001b[0m\u001b[0;34m\u001b[0m\u001b[0;34m\u001b[0m\u001b[0m\n\u001b[0;32m---> 62\u001b[0;31m         \u001b[0mimg\u001b[0m \u001b[0;34m=\u001b[0m \u001b[0mcall_plugin\u001b[0m\u001b[0;34m(\u001b[0m\u001b[0;34m'imread'\u001b[0m\u001b[0;34m,\u001b[0m \u001b[0mfname\u001b[0m\u001b[0;34m,\u001b[0m \u001b[0mplugin\u001b[0m\u001b[0;34m=\u001b[0m\u001b[0mplugin\u001b[0m\u001b[0;34m,\u001b[0m \u001b[0;34m**\u001b[0m\u001b[0mplugin_args\u001b[0m\u001b[0;34m)\u001b[0m\u001b[0;34m\u001b[0m\u001b[0;34m\u001b[0m\u001b[0m\n\u001b[0m\u001b[1;32m     63\u001b[0m \u001b[0;34m\u001b[0m\u001b[0m\n\u001b[1;32m     64\u001b[0m     \u001b[0;32mif\u001b[0m \u001b[0;32mnot\u001b[0m \u001b[0mhasattr\u001b[0m\u001b[0;34m(\u001b[0m\u001b[0mimg\u001b[0m\u001b[0;34m,\u001b[0m \u001b[0;34m'ndim'\u001b[0m\u001b[0;34m)\u001b[0m\u001b[0;34m:\u001b[0m\u001b[0;34m\u001b[0m\u001b[0;34m\u001b[0m\u001b[0m\n",
      "\u001b[0;32m/opt/conda/lib/python3.6/site-packages/skimage/io/manage_plugins.py\u001b[0m in \u001b[0;36mcall_plugin\u001b[0;34m(kind, *args, **kwargs)\u001b[0m\n\u001b[1;32m    212\u001b[0m                                (plugin, kind))\n\u001b[1;32m    213\u001b[0m \u001b[0;34m\u001b[0m\u001b[0m\n\u001b[0;32m--> 214\u001b[0;31m     \u001b[0;32mreturn\u001b[0m \u001b[0mfunc\u001b[0m\u001b[0;34m(\u001b[0m\u001b[0;34m*\u001b[0m\u001b[0margs\u001b[0m\u001b[0;34m,\u001b[0m \u001b[0;34m**\u001b[0m\u001b[0mkwargs\u001b[0m\u001b[0;34m)\u001b[0m\u001b[0;34m\u001b[0m\u001b[0;34m\u001b[0m\u001b[0m\n\u001b[0m\u001b[1;32m    215\u001b[0m \u001b[0;34m\u001b[0m\u001b[0m\n\u001b[1;32m    216\u001b[0m \u001b[0;34m\u001b[0m\u001b[0m\n",
      "\u001b[0;32m/opt/conda/lib/python3.6/site-packages/skimage/io/_plugins/pil_plugin.py\u001b[0m in \u001b[0;36mimread\u001b[0;34m(fname, dtype, img_num, **kwargs)\u001b[0m\n\u001b[1;32m     35\u001b[0m         \u001b[0;32mwith\u001b[0m \u001b[0mopen\u001b[0m\u001b[0;34m(\u001b[0m\u001b[0mfname\u001b[0m\u001b[0;34m,\u001b[0m \u001b[0;34m'rb'\u001b[0m\u001b[0;34m)\u001b[0m \u001b[0;32mas\u001b[0m \u001b[0mf\u001b[0m\u001b[0;34m:\u001b[0m\u001b[0;34m\u001b[0m\u001b[0;34m\u001b[0m\u001b[0m\n\u001b[1;32m     36\u001b[0m             \u001b[0mim\u001b[0m \u001b[0;34m=\u001b[0m \u001b[0mImage\u001b[0m\u001b[0;34m.\u001b[0m\u001b[0mopen\u001b[0m\u001b[0;34m(\u001b[0m\u001b[0mf\u001b[0m\u001b[0;34m)\u001b[0m\u001b[0;34m\u001b[0m\u001b[0;34m\u001b[0m\u001b[0m\n\u001b[0;32m---> 37\u001b[0;31m             \u001b[0;32mreturn\u001b[0m \u001b[0mpil_to_ndarray\u001b[0m\u001b[0;34m(\u001b[0m\u001b[0mim\u001b[0m\u001b[0;34m,\u001b[0m \u001b[0mdtype\u001b[0m\u001b[0;34m=\u001b[0m\u001b[0mdtype\u001b[0m\u001b[0;34m,\u001b[0m \u001b[0mimg_num\u001b[0m\u001b[0;34m=\u001b[0m\u001b[0mimg_num\u001b[0m\u001b[0;34m)\u001b[0m\u001b[0;34m\u001b[0m\u001b[0;34m\u001b[0m\u001b[0m\n\u001b[0m\u001b[1;32m     38\u001b[0m     \u001b[0;32melse\u001b[0m\u001b[0;34m:\u001b[0m\u001b[0;34m\u001b[0m\u001b[0;34m\u001b[0m\u001b[0m\n\u001b[1;32m     39\u001b[0m         \u001b[0mim\u001b[0m \u001b[0;34m=\u001b[0m \u001b[0mImage\u001b[0m\u001b[0;34m.\u001b[0m\u001b[0mopen\u001b[0m\u001b[0;34m(\u001b[0m\u001b[0mfname\u001b[0m\u001b[0;34m)\u001b[0m\u001b[0;34m\u001b[0m\u001b[0;34m\u001b[0m\u001b[0m\n",
      "\u001b[0;32m/opt/conda/lib/python3.6/site-packages/skimage/io/_plugins/pil_plugin.py\u001b[0m in \u001b[0;36mpil_to_ndarray\u001b[0;34m(image, dtype, img_num)\u001b[0m\n\u001b[1;32m     51\u001b[0m     \u001b[0;32mtry\u001b[0m\u001b[0;34m:\u001b[0m\u001b[0;34m\u001b[0m\u001b[0;34m\u001b[0m\u001b[0m\n\u001b[1;32m     52\u001b[0m         \u001b[0;31m# this will raise an IOError if the file is not readable\u001b[0m\u001b[0;34m\u001b[0m\u001b[0;34m\u001b[0m\u001b[0;34m\u001b[0m\u001b[0m\n\u001b[0;32m---> 53\u001b[0;31m         \u001b[0mimage\u001b[0m\u001b[0;34m.\u001b[0m\u001b[0mgetdata\u001b[0m\u001b[0;34m(\u001b[0m\u001b[0;34m)\u001b[0m\u001b[0;34m[\u001b[0m\u001b[0;36m0\u001b[0m\u001b[0;34m]\u001b[0m\u001b[0;34m\u001b[0m\u001b[0;34m\u001b[0m\u001b[0m\n\u001b[0m\u001b[1;32m     54\u001b[0m     \u001b[0;32mexcept\u001b[0m \u001b[0mIOError\u001b[0m \u001b[0;32mas\u001b[0m \u001b[0me\u001b[0m\u001b[0;34m:\u001b[0m\u001b[0;34m\u001b[0m\u001b[0;34m\u001b[0m\u001b[0m\n\u001b[1;32m     55\u001b[0m         \u001b[0msite\u001b[0m \u001b[0;34m=\u001b[0m \u001b[0;34m\"http://pillow.readthedocs.org/en/latest/installation.html#external-libraries\"\u001b[0m\u001b[0;34m\u001b[0m\u001b[0;34m\u001b[0m\u001b[0m\n",
      "\u001b[0;32m/opt/conda/lib/python3.6/site-packages/PIL/Image.py\u001b[0m in \u001b[0;36mgetdata\u001b[0;34m(self, band)\u001b[0m\n\u001b[1;32m   1275\u001b[0m         \"\"\"\n\u001b[1;32m   1276\u001b[0m \u001b[0;34m\u001b[0m\u001b[0m\n\u001b[0;32m-> 1277\u001b[0;31m         \u001b[0mself\u001b[0m\u001b[0;34m.\u001b[0m\u001b[0mload\u001b[0m\u001b[0;34m(\u001b[0m\u001b[0;34m)\u001b[0m\u001b[0;34m\u001b[0m\u001b[0;34m\u001b[0m\u001b[0m\n\u001b[0m\u001b[1;32m   1278\u001b[0m         \u001b[0;32mif\u001b[0m \u001b[0mband\u001b[0m \u001b[0;32mis\u001b[0m \u001b[0;32mnot\u001b[0m \u001b[0;32mNone\u001b[0m\u001b[0;34m:\u001b[0m\u001b[0;34m\u001b[0m\u001b[0;34m\u001b[0m\u001b[0m\n\u001b[1;32m   1279\u001b[0m             \u001b[0;32mreturn\u001b[0m \u001b[0mself\u001b[0m\u001b[0;34m.\u001b[0m\u001b[0mim\u001b[0m\u001b[0;34m.\u001b[0m\u001b[0mgetband\u001b[0m\u001b[0;34m(\u001b[0m\u001b[0mband\u001b[0m\u001b[0;34m)\u001b[0m\u001b[0;34m\u001b[0m\u001b[0;34m\u001b[0m\u001b[0m\n",
      "\u001b[0;32m/opt/conda/lib/python3.6/site-packages/PIL/ImageFile.py\u001b[0m in \u001b[0;36mload\u001b[0;34m(self)\u001b[0m\n\u001b[1;32m    240\u001b[0m \u001b[0;34m\u001b[0m\u001b[0m\n\u001b[1;32m    241\u001b[0m                             \u001b[0mb\u001b[0m \u001b[0;34m=\u001b[0m \u001b[0mb\u001b[0m \u001b[0;34m+\u001b[0m \u001b[0ms\u001b[0m\u001b[0;34m\u001b[0m\u001b[0;34m\u001b[0m\u001b[0m\n\u001b[0;32m--> 242\u001b[0;31m                             \u001b[0mn\u001b[0m\u001b[0;34m,\u001b[0m \u001b[0merr_code\u001b[0m \u001b[0;34m=\u001b[0m \u001b[0mdecoder\u001b[0m\u001b[0;34m.\u001b[0m\u001b[0mdecode\u001b[0m\u001b[0;34m(\u001b[0m\u001b[0mb\u001b[0m\u001b[0;34m)\u001b[0m\u001b[0;34m\u001b[0m\u001b[0;34m\u001b[0m\u001b[0m\n\u001b[0m\u001b[1;32m    243\u001b[0m                             \u001b[0;32mif\u001b[0m \u001b[0mn\u001b[0m \u001b[0;34m<\u001b[0m \u001b[0;36m0\u001b[0m\u001b[0;34m:\u001b[0m\u001b[0;34m\u001b[0m\u001b[0;34m\u001b[0m\u001b[0m\n\u001b[1;32m    244\u001b[0m                                 \u001b[0;32mbreak\u001b[0m\u001b[0;34m\u001b[0m\u001b[0;34m\u001b[0m\u001b[0m\n",
      "\u001b[0;31mKeyboardInterrupt\u001b[0m: "
     ]
    }
   ],
   "source": [
    "videos_frames = load_all_test_videos(test_videos_folders, img_shape)"
   ]
  },
  {
   "cell_type": "code",
   "execution_count": null,
   "metadata": {},
   "outputs": [],
   "source": []
  },
  {
   "cell_type": "code",
   "execution_count": null,
   "metadata": {},
   "outputs": [],
   "source": []
  }
 ],
 "metadata": {
  "kernelspec": {
   "display_name": "Python 3",
   "language": "python",
   "name": "python3"
  },
  "language_info": {
   "codemirror_mode": {
    "name": "ipython",
    "version": 3
   },
   "file_extension": ".py",
   "mimetype": "text/x-python",
   "name": "python",
   "nbconvert_exporter": "python",
   "pygments_lexer": "ipython3",
   "version": "3.6.8"
  }
 },
 "nbformat": 4,
 "nbformat_minor": 2
}
