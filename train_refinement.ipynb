{
 "cells": [
  {
   "cell_type": "code",
   "execution_count": 1,
   "metadata": {},
   "outputs": [],
   "source": [
    "import numpy as np\n",
    "import os\n",
    "import torch\n",
    "\n",
    "from glob import glob\n",
    "from skimage import io\n",
    "from tensorboardX import SummaryWriter\n",
    "from torch.utils.data.dataloader import DataLoader\n",
    "from torch import nn\n",
    "from tqdm import tqdm\n",
    "from time import time\n",
    "\n",
    "from src.batch_generator import BatchGenerator, WraptorDataLoader\n",
    "from src.command import Command\n",
    "from src.models import LocalTransferNet, GlobalTransferer, RefinementNet\n",
    "from src.train_utils import (draw_scalar_value, draw_images, rgb2gray, infer_batch,\n",
    "                             inference_all_test_videos, load_all_test_videos, calculate_psnr_result, frame_to_tensor)\n",
    "\n",
    "\n",
    "from color_utils import rgb2lab_torch, lab2rgb_torch\n",
    "from skimage.color import rgb2lab, lab2rgb\n",
    "from collections import defaultdict"
   ]
  },
  {
   "cell_type": "code",
   "execution_count": 2,
   "metadata": {},
   "outputs": [],
   "source": [
    "os.environ['CUDA_VISIBLE_DEVICES']='0, 2'\n",
    "\n",
    "experiment_dir = \"experiments/train_refinement_onepass_six_frames_loss_pretrainetlocal_amsgrad\"\n",
    "logs_directory = os.path.join(experiment_dir, \"logs\")\n",
    "save_test_output_videos_dir =  os.path.join(experiment_dir,  \"results_test_videos\")\n",
    "checkpoints_folder =  os.path.join(experiment_dir, \"checkpoints\")\n",
    "\n",
    "board_port = 6103\n",
    "board_timeout=24*60*60\n",
    "batch_size = 4\n",
    "img_shape = (128, 128, 3)\n",
    "val_num = 5\n",
    "iteration_num = 5000\n",
    "dataset_dir = \"datasets/Davis480/480p\"\n",
    "learning_rate = 1e-3 / 5\n",
    "verbose_every_it = 10\n",
    "save_models_every_it = 100\n",
    "\n",
    "test_every_it = 100"
   ]
  },
  {
   "cell_type": "code",
   "execution_count": 3,
   "metadata": {},
   "outputs": [],
   "source": [
    "test_videos_folders = sorted(glob(dataset_dir + \"/*\"))[-val_num:]"
   ]
  },
  {
   "cell_type": "code",
   "execution_count": 4,
   "metadata": {},
   "outputs": [],
   "source": [
    "writer = SummaryWriter(logs_directory) \n",
    "board = Command('tensorboard --logdir=run1:{} --port {}'.format(logs_directory, board_port))\n",
    "board.run()"
   ]
  },
  {
   "cell_type": "code",
   "execution_count": 5,
   "metadata": {},
   "outputs": [],
   "source": [
    "dir_paths = [experiment_dir, logs_directory, checkpoints_folder, save_test_output_videos_dir]\n",
    "for path in dir_paths:\n",
    "    try:\n",
    "        os.mkdir(path)\n",
    "    except:\n",
    "        pass"
   ]
  },
  {
   "cell_type": "code",
   "execution_count": 6,
   "metadata": {},
   "outputs": [
    {
     "name": "stderr",
     "output_type": "stream",
     "text": [
      "/opt/conda/lib/python3.6/site-packages/skimage/transform/_warps.py:105: UserWarning: The default mode, 'constant', will be changed to 'reflect' in skimage 0.15.\n",
      "  warn(\"The default mode, 'constant', will be changed to 'reflect' in \"\n"
     ]
    }
   ],
   "source": [
    "train_videos = load_all_test_videos(sorted(glob(dataset_dir + \"/*\"))[:-val_num], resize_size=img_shape)\n",
    "val_videos = load_all_test_videos(sorted(glob(dataset_dir + \"/*\"))[-val_num:], resize_size=img_shape)"
   ]
  },
  {
   "cell_type": "code",
   "execution_count": 7,
   "metadata": {},
   "outputs": [],
   "source": [
    "local_transfer_net = nn.DataParallel(LocalTransferNet().double().cuda())\n",
    "global_transferer = GlobalTransferer()\n",
    "refinement_net = nn.DataParallel(RefinementNet().double().cuda())"
   ]
  },
  {
   "cell_type": "code",
   "execution_count": 8,
   "metadata": {},
   "outputs": [
    {
     "data": {
      "text/plain": [
       "IncompatibleKeys(missing_keys=[], unexpected_keys=[])"
      ]
     },
     "execution_count": 8,
     "metadata": {},
     "output_type": "execute_result"
    }
   ],
   "source": [
    "local_transfer_net.load_state_dict(torch.load(\"experiments/pretrain_local_several_frames_back_highlr_amsgrad/checkpoints/7800/local_net_state_dict\"))"
   ]
  },
  {
   "cell_type": "code",
   "execution_count": 9,
   "metadata": {},
   "outputs": [],
   "source": [
    "pretrain_local = False\n",
    "end2end = False"
   ]
  },
  {
   "cell_type": "code",
   "execution_count": 10,
   "metadata": {},
   "outputs": [],
   "source": [
    "loss_function = torch.nn.L1Loss() #torch.nn.MSELoss() or torch.nn.L1Loss()\n",
    "if pretrain_local:\n",
    "    optimizer = torch.optim.Adam(list(local_transfer_net.parameters()), \n",
    "                                 lr=learning_rate, amsgrad=True)\n",
    "else:\n",
    "    if end2end:\n",
    "        optimizer = torch.optim.Adam(list(local_transfer_net.parameters()) + list(refinement_net.parameters()), \n",
    "                                     lr=learning_rate, amsgrad=True)\n",
    "    else:\n",
    "        optimizer = torch.optim.Adam(list(refinement_net.parameters()), \n",
    "                                     lr=learning_rate, amsgrad=True)"
   ]
  },
  {
   "cell_type": "code",
   "execution_count": 11,
   "metadata": {},
   "outputs": [],
   "source": [
    "def get_random_video_frames(input_videos, frames_num):\n",
    "    video_id = np.random.randint(0, len(input_videos))\n",
    "    start_frame = np.random.randint(0, len(input_videos[video_id]) -  1)\n",
    "    return input_videos[video_id][start_frame: start_frame + frames_num]"
   ]
  },
  {
   "cell_type": "code",
   "execution_count": 12,
   "metadata": {},
   "outputs": [],
   "source": [
    "def tensor_from_list(list_frames):\n",
    "    return torch.cat([frame[None, ...] for frame in list_frames], dim=0)"
   ]
  },
  {
   "cell_type": "code",
   "execution_count": 13,
   "metadata": {},
   "outputs": [],
   "source": [
    "def inference_train_video(frames, refinement_net, local_transfer_net, global_transferer, use_only_local=False):\n",
    "    I0 = frames[0]\n",
    "    I_prev = frame_to_tensor(frames[0]).cuda()\n",
    "    Gk_1 = rgb2gray(I0)\n",
    "    G0 = Gk_1.copy()\n",
    "    output_rgb_frames = []\n",
    "    output_lab_frames = []\n",
    "    output_local = []\n",
    "    output_global = []\n",
    "    for cur_frame in frames[1:]:\n",
    "        batch = (frame_to_tensor(I0[None, ...]), \n",
    "                 I_prev[None, ...].detach(),\n",
    "                 frame_to_tensor(cur_frame[None, ...]))\n",
    "        result_lab, result_rgb, result_local, result_global = infer_batch(batch, refinement_net, local_transfer_net, \n",
    "                                                                 global_transferer, use_only_local)\n",
    "        output_rgb_frames.append(result_rgb[0].cpu())\n",
    "        output_lab_frames.append(result_lab[0])\n",
    "        output_local.append(result_local[0].cpu())\n",
    "        output_global.append(result_global[0].cpu())\n",
    "        I_prev = output_rgb_frames[-1]\n",
    "        \n",
    "    return (tensor_from_list(output_lab_frames),\n",
    "            tensor_from_list(output_rgb_frames), \n",
    "            tensor_from_list(output_local), \n",
    "            tensor_from_list(output_global))"
   ]
  },
  {
   "cell_type": "code",
   "execution_count": 14,
   "metadata": {},
   "outputs": [],
   "source": [
    "start_it = 0\n",
    "inference_frames = 6"
   ]
  },
  {
   "cell_type": "code",
   "execution_count": null,
   "metadata": {
    "scrolled": true
   },
   "outputs": [
    {
     "name": "stderr",
     "output_type": "stream",
     "text": [
      "  0%|          | 0/5000 [00:00<?, ?it/s]/opt/conda/lib/python3.6/site-packages/skimage/color/colorconv.py:997: UserWarning: Color data out of range: Z < 0 in 5 pixels\n",
      "  warn('Color data out of range: Z < 0 in %s pixels' % invalid[0].size)\n",
      "/opt/conda/lib/python3.6/site-packages/skimage/color/colorconv.py:997: UserWarning: Color data out of range: Z < 0 in 1 pixels\n",
      "  warn('Color data out of range: Z < 0 in %s pixels' % invalid[0].size)\n",
      "/opt/conda/lib/python3.6/site-packages/skimage/color/colorconv.py:997: UserWarning: Color data out of range: Z < 0 in 2 pixels\n",
      "  warn('Color data out of range: Z < 0 in %s pixels' % invalid[0].size)\n",
      "/opt/conda/lib/python3.6/site-packages/skimage/color/colorconv.py:997: UserWarning: Color data out of range: Z < 0 in 7 pixels\n",
      "  warn('Color data out of range: Z < 0 in %s pixels' % invalid[0].size)\n",
      "/opt/conda/lib/python3.6/site-packages/skimage/util/dtype.py:130: UserWarning: Possible precision loss when converting from float64 to uint8\n",
      "  .format(dtypeobj_in, dtypeobj_out))\n",
      "  0%|          | 1/5000 [01:10<98:10:18, 70.70s/it]/opt/conda/lib/python3.6/site-packages/skimage/color/colorconv.py:997: UserWarning: Color data out of range: Z < 0 in 4 pixels\n",
      "  warn('Color data out of range: Z < 0 in %s pixels' % invalid[0].size)\n",
      "/opt/conda/lib/python3.6/site-packages/skimage/color/colorconv.py:997: UserWarning: Color data out of range: Z < 0 in 6 pixels\n",
      "  warn('Color data out of range: Z < 0 in %s pixels' % invalid[0].size)\n",
      "/opt/conda/lib/python3.6/site-packages/skimage/color/colorconv.py:997: UserWarning: Color data out of range: Z < 0 in 33 pixels\n",
      "  warn('Color data out of range: Z < 0 in %s pixels' % invalid[0].size)\n",
      "  0%|          | 7/5000 [03:58<47:15:35, 34.07s/it]/opt/conda/lib/python3.6/site-packages/skimage/color/colorconv.py:997: UserWarning: Color data out of range: Z < 0 in 10 pixels\n",
      "  warn('Color data out of range: Z < 0 in %s pixels' % invalid[0].size)\n",
      "  0%|          | 17/5000 [09:38<47:04:25, 34.01s/it]/opt/conda/lib/python3.6/site-packages/skimage/color/colorconv.py:997: UserWarning: Color data out of range: Z < 0 in 11 pixels\n",
      "  warn('Color data out of range: Z < 0 in %s pixels' % invalid[0].size)\n",
      "/opt/conda/lib/python3.6/site-packages/skimage/color/colorconv.py:997: UserWarning: Color data out of range: Z < 0 in 12 pixels\n",
      "  warn('Color data out of range: Z < 0 in %s pixels' % invalid[0].size)\n",
      "  0%|          | 19/5000 [10:36<46:22:47, 33.52s/it]/opt/conda/lib/python3.6/site-packages/skimage/color/colorconv.py:997: UserWarning: Color data out of range: Z < 0 in 3 pixels\n",
      "  warn('Color data out of range: Z < 0 in %s pixels' % invalid[0].size)\n",
      "/opt/conda/lib/python3.6/site-packages/skimage/color/colorconv.py:997: UserWarning: Color data out of range: Z < 0 in 13 pixels\n",
      "  warn('Color data out of range: Z < 0 in %s pixels' % invalid[0].size)\n",
      "  0%|          | 25/5000 [14:10<47:01:42, 34.03s/it]/opt/conda/lib/python3.6/site-packages/skimage/color/colorconv.py:997: UserWarning: Color data out of range: Z < 0 in 9 pixels\n",
      "  warn('Color data out of range: Z < 0 in %s pixels' % invalid[0].size)\n",
      "  1%|          | 32/5000 [18:15<47:15:15, 34.24s/it]/opt/conda/lib/python3.6/site-packages/skimage/color/colorconv.py:997: UserWarning: Color data out of range: Z < 0 in 45 pixels\n",
      "  warn('Color data out of range: Z < 0 in %s pixels' % invalid[0].size)\n",
      "/opt/conda/lib/python3.6/site-packages/skimage/color/colorconv.py:997: UserWarning: Color data out of range: Z < 0 in 16 pixels\n",
      "  warn('Color data out of range: Z < 0 in %s pixels' % invalid[0].size)\n",
      "  1%|          | 38/5000 [20:51<45:24:23, 32.94s/it]/opt/conda/lib/python3.6/site-packages/skimage/color/colorconv.py:997: UserWarning: Color data out of range: Z < 0 in 18 pixels\n",
      "  warn('Color data out of range: Z < 0 in %s pixels' % invalid[0].size)\n",
      "/opt/conda/lib/python3.6/site-packages/skimage/color/colorconv.py:997: UserWarning: Color data out of range: Z < 0 in 26 pixels\n",
      "  warn('Color data out of range: Z < 0 in %s pixels' % invalid[0].size)\n",
      "/opt/conda/lib/python3.6/site-packages/skimage/color/colorconv.py:997: UserWarning: Color data out of range: Z < 0 in 46 pixels\n",
      "  warn('Color data out of range: Z < 0 in %s pixels' % invalid[0].size)\n",
      "/opt/conda/lib/python3.6/site-packages/skimage/color/colorconv.py:997: UserWarning: Color data out of range: Z < 0 in 62 pixels\n",
      "  warn('Color data out of range: Z < 0 in %s pixels' % invalid[0].size)\n",
      "  1%|          | 48/5000 [26:34<45:42:12, 33.23s/it]"
     ]
    }
   ],
   "source": [
    "#I1, Ik_1, Ik\n",
    "for it in tqdm(range(start_it, iteration_num)):\n",
    "    \n",
    "    input_frames = get_random_video_frames(train_videos, inference_frames)\n",
    "    gt_frames = torch.tensor(input_frames).cuda()\n",
    "    refinement_output_lab_train, refinement_output_rgb_train, local_output_train, global_output_train = inference_train_video(input_frames, refinement_net, \n",
    "                                                                                        local_transfer_net, \n",
    "                                                                                        global_transferer, \n",
    "                                                                                        use_only_local=False)\n",
    "    \n",
    "    train_loss = loss_function(refinement_output_lab_train[..., 1:], rgb2lab_torch(gt_frames)[1:, ..., 1:])\n",
    "    \n",
    "    \n",
    "    optimizer.zero_grad()\n",
    "    train_loss.backward()\n",
    "    optimizer.step()\n",
    "    \n",
    "    layers_grad = defaultdict()\n",
    "    \n",
    "    layer_id = 0\n",
    "    for i in range(len(refinement_net.module.conv_layers)):\n",
    "        try:\n",
    "            weight_grad_mean = torch.mean((refinement_net.module.conv_layers[i].weight.grad) ** 2)\n",
    "            bias_grad_mean = torch.mean((refinement_net.module.conv_layers[i].bias.grad) ** 2)\n",
    "            layers_grad[\"layer_%d_weight_grad_norm\" % layer_id] = weight_grad_mean\n",
    "            layers_grad[\"layer_%d_bias_grad_norm\" % layer_id] = bias_grad_mean\n",
    "            layer_id += 1\n",
    "        except:\n",
    "            continue\n",
    "    \n",
    "    \n",
    "    if (it % verbose_every_it) == 0:\n",
    "        input_frames = get_random_video_frames(val_videos, inference_frames)\n",
    "        gt_frames_train = gt_frames[1:]\n",
    "        gt_frames_val = torch.tensor(input_frames[1:]).cuda()\n",
    "        refinement_output_lab_val, refinement_output_rgb_val, local_output_val, global_output_val = inference_train_video(input_frames, refinement_net, \n",
    "                                                                                        local_transfer_net, \n",
    "                                                                                        global_transferer, \n",
    "                                                                                        use_only_local=False)\n",
    "        val_loss = loss_function(refinement_output_lab_val[..., 1:], rgb2lab_torch(gt_frames_val)[..., 1:])\n",
    "        \n",
    "\n",
    "        draw_scalar_value(writer, \"losses\", \"train loss\", train_loss.detach().cpu().numpy(), it)\n",
    "        draw_scalar_value(writer, \"losses\", \"val loss\", val_loss.detach().cpu().numpy(), it)\n",
    "        writer.add_scalars(\"grad_norm\", layers_grad, it)\n",
    "        \n",
    "        local_output_train = torch.clamp(local_output_train,  0, 1)\n",
    "        local_output_val = torch.clamp(local_output_val,  0, 1)\n",
    "        refinement_output_rgb_train = torch.clamp(refinement_output_rgb_train,  0, 1)\n",
    "        refinement_output_rgb_val = torch.clamp(refinement_output_rgb_val,  0, 1)\n",
    "\n",
    "        concat_res_train = torch.cat((global_output_train.cpu(), local_output_train.cpu(), refinement_output_rgb_train.cpu()), dim=2)\n",
    "        draw_images(writer, gt_frames_train.cpu().detach().numpy(), concat_res_train.cpu().detach().numpy(), it, tag=\"train\")\n",
    "        \n",
    "        concat_res_val = torch.cat((global_output_val.cpu(), local_output_val.cpu(), refinement_output_rgb_val.cpu()), dim=2)\n",
    "        draw_images(writer, gt_frames_val.cpu().detach().numpy(), concat_res_val.cpu().detach().numpy(), it, tag=\"val\")\n",
    "    \n",
    "    if ((it % save_models_every_it) == 0) and (it > 0):\n",
    "        os.mkdir(os.path.join(checkpoints_folder, str(it)))\n",
    "        torch.save(refinement_net, os.path.join(checkpoints_folder,  str(it), \"refinement_net\"))\n",
    "        torch.save(refinement_net.state_dict(), os.path.join(checkpoints_folder,  str(it), \"refinement_net_state_dict\"))\n",
    "        torch.save(local_transfer_net, os.path.join(checkpoints_folder,  str(it), \"local_net\"))\n",
    "        torch.save(local_transfer_net.state_dict(), os.path.join(checkpoints_folder,  str(it), \"local_net_state_dict\"))\n",
    "    \n",
    "    if ((it % test_every_it) == 0) and (it > 0):\n",
    "        refinement_result, local_result, global_result = inference_all_test_videos(test_videos_folders,\n",
    "                              refinement_net, local_transfer_net, global_transferer,\n",
    "                              save_test_output_videos_dir, it, use_only_local=pretrain_local,\n",
    "                              save_result=True, resize_size=img_shape)\n",
    "        gt_frames = load_all_test_videos(test_videos_folders, resize_size=img_shape)\n",
    "        metric_value = calculate_psnr_result(gt_frames, refinement_result)\n",
    "        draw_scalar_value(writer, \"metrics\", \"test psnr\", metric_value, it)\n",
    "    \n",
    "\n",
    "        "
   ]
  },
  {
   "cell_type": "code",
   "execution_count": null,
   "metadata": {},
   "outputs": [],
   "source": [
    "videos_frames = load_all_test_videos(test_videos_folders, img_shape)"
   ]
  },
  {
   "cell_type": "code",
   "execution_count": null,
   "metadata": {},
   "outputs": [],
   "source": []
  }
 ],
 "metadata": {
  "kernelspec": {
   "display_name": "Python 3",
   "language": "python",
   "name": "python3"
  },
  "language_info": {
   "codemirror_mode": {
    "name": "ipython",
    "version": 3
   },
   "file_extension": ".py",
   "mimetype": "text/x-python",
   "name": "python",
   "nbconvert_exporter": "python",
   "pygments_lexer": "ipython3",
   "version": "3.6.8"
  }
 },
 "nbformat": 4,
 "nbformat_minor": 2
}
